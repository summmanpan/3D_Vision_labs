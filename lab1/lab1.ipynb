{
 "cells": [
  {
   "cell_type": "markdown",
   "metadata": {},
   "source": [
    "<mark> Clara Lloría (218147) and Suman Pan (218352) </mark>\n",
    "<!-- <span style=\"color:purple\">Clara Lloría (218147) and Suman Pan (218352)</span>. -->\n",
    "<!-- <mark style=\"background-color: lightblue\"> </mark> -->"
   ]
  },
  {
   "cell_type": "markdown",
   "metadata": {
    "id": "5-jQtnq6Z3x2"
   },
   "source": [
    "# Lab 1: image transformations\n"
   ]
  },
  {
   "cell_type": "markdown",
   "metadata": {
    "id": "bYysvSmLZ3x7"
   },
   "source": [
    "The aim of this practical assignment is to provide a first contact with\n",
    "projective geometry and homogeneous coordinates.  We will first apply different\n",
    "transformations to an image to get the feel of how does each transform type\n",
    "looks like.  Then we will see two different methods for image rectification.\n",
    "\n",
    "You will have to answer the questions and complete the provided code when\n",
    "necessary as required. Some questions are rather theoretical and eventually\n",
    "imply some calculations while others are practical questions. **You must\n",
    "deliver a pdf file with the answers to the questions and the completed ipynb\n",
    "file with all code cells already executed.**"
   ]
  },
  {
   "cell_type": "code",
   "execution_count": 1,
   "metadata": {
    "id": "ojRJPlKaZ3x8"
   },
   "outputs": [
    {
     "name": "stdout",
     "output_type": "stream",
     "text": [
      "C:\\Users\\pansu\\anaconda3\\lib\\site-packages\\numpy\n",
      "C:\\Users\\pansu\\anaconda3\\lib\\site-packages\\scipy\n",
      "C:\\Users\\pansu\\OneDrive\\Documentos\\3_trim_4rto\\Vision_3D\\3D_Vision_labs\\lab1\n",
      "C:\\Users\\pansu\\.matplotlib\n",
      "C:\\Users\\pansu\\anaconda3\\lib\\site-packages\\matplotlib\\mpl-data\n",
      "C:\\Users\\pansu\\.matplotlib\n",
      "C:\\Users\\pansu\\anaconda3\\lib\\site-packages\\matplotlib\\mpl-data\n",
      "C:\\Users\\pansu\\anaconda3\\lib\\site-packages\\matplotlib\\mpl-data\n",
      "C:\\Users\\pansu\\anaconda3\\lib\\site-packages\\matplotlib\\mpl-data\n",
      "C:\\Users\\pansu\\anaconda3\\lib\\site-packages\\matplotlib\\mpl-data\n",
      "C:\\Users\\pansu\\anaconda3\\lib\\site-packages\\matplotlib\\mpl-data\n",
      "C:\\Users\\pansu\\anaconda3\\lib\\site-packages\\matplotlib\\mpl-data\n",
      "C:\\Users\\pansu\\anaconda3\\lib\\site-packages\\matplotlib\\mpl-data\n",
      "C:\\Users\\pansu\\anaconda3\\lib\\site-packages\\matplotlib\\mpl-data\n",
      "C:\\Users\\pansu\\anaconda3\\lib\\site-packages\\matplotlib\\mpl-data\n",
      "C:\\Users\\pansu\\anaconda3\\lib\\site-packages\\matplotlib\\mpl-data\n",
      "C:\\Users\\pansu\\anaconda3\\lib\\site-packages\\matplotlib\\mpl-data\n",
      "C:\\Users\\pansu\\anaconda3\\lib\\site-packages\\matplotlib\\mpl-data\n",
      "C:\\Users\\pansu\\anaconda3\\lib\\site-packages\\matplotlib\\mpl-data\n",
      "C:\\Users\\pansu\\anaconda3\\lib\\site-packages\\matplotlib\\mpl-data\n",
      "C:\\Users\\pansu\\anaconda3\\lib\\site-packages\\matplotlib\\mpl-data\n",
      "C:\\Users\\pansu\\anaconda3\\lib\\site-packages\\matplotlib\\mpl-data\n",
      "C:\\Users\\pansu\\anaconda3\\lib\\site-packages\\matplotlib\\mpl-data\n",
      "C:\\Users\\pansu\\anaconda3\\lib\\site-packages\\matplotlib\\mpl-data\n",
      "C:\\Users\\pansu\\anaconda3\\lib\\site-packages\\matplotlib\\mpl-data\n",
      "C:\\Users\\pansu\\anaconda3\\lib\\site-packages\\matplotlib\\mpl-data\n",
      "C:\\Users\\pansu\\anaconda3\\lib\\site-packages\\matplotlib\\mpl-data\n",
      "C:\\Users\\pansu\\anaconda3\\lib\\site-packages\\matplotlib\\mpl-data\n",
      "C:\\Users\\pansu\\anaconda3\\lib\\site-packages\\matplotlib\\mpl-data\n",
      "C:\\Users\\pansu\\anaconda3\\lib\\site-packages\\matplotlib\\mpl-data\n",
      "C:\\Users\\pansu\\anaconda3\\lib\\site-packages\\matplotlib\\mpl-data\n",
      "C:\\Users\\pansu\\anaconda3\\lib\\site-packages\\matplotlib\\mpl-data\n",
      "C:\\Users\\pansu\\anaconda3\\lib\\site-packages\\matplotlib\\mpl-data\n",
      "C:\\Users\\pansu\\anaconda3\\lib\\site-packages\\matplotlib\\mpl-data\n",
      "C:\\Users\\pansu\\anaconda3\\lib\\site-packages\\matplotlib\\mpl-data\n",
      "C:\\Users\\pansu\\anaconda3\\lib\\site-packages\\matplotlib\\mpl-data\n",
      "C:\\Users\\pansu\\anaconda3\\lib\\site-packages\\matplotlib\\mpl-data\n",
      "C:\\Users\\pansu\\anaconda3\\lib\\site-packages\\matplotlib\\mpl-data\n",
      "C:\\Users\\pansu\\anaconda3\\lib\\site-packages\\matplotlib\\mpl-data\n",
      "C:\\Users\\pansu\\anaconda3\\lib\\site-packages\\matplotlib\\mpl-data\n",
      "C:\\Users\\pansu\\anaconda3\\lib\\site-packages\\matplotlib\\mpl-data\n",
      "C:\\Users\\pansu\\anaconda3\\lib\\site-packages\\matplotlib\\mpl-data\n",
      "C:\\Users\\pansu\\anaconda3\\lib\\site-packages\\matplotlib\\mpl-data\n",
      "C:\\Users\\pansu\\anaconda3\\lib\\site-packages\\matplotlib\\mpl-data\n",
      "C:\\Users\\pansu\\anaconda3\\lib\\site-packages\\matplotlib\\mpl-data\n",
      "C:\\Users\\pansu\\anaconda3\\lib\\site-packages\\matplotlib\\mpl-data\n",
      "C:\\Users\\pansu\\anaconda3\\lib\\site-packages\\matplotlib\\mpl-data\n",
      "C:\\Users\\pansu\\anaconda3\\lib\\site-packages\\matplotlib\\mpl-data\n",
      "C:\\Users\\pansu\\anaconda3\\lib\\site-packages\\matplotlib\\mpl-data\n",
      "C:\\Users\\pansu\\anaconda3\\lib\\site-packages\\matplotlib\\mpl-data\n",
      "C:\\Users\\pansu\\anaconda3\\lib\\site-packages\\matplotlib\\mpl-data\n",
      "C:\\Users\\pansu\\anaconda3\\lib\\site-packages\\matplotlib\\mpl-data\n",
      "C:\\Users\\pansu\\anaconda3\\lib\\site-packages\\matplotlib\\mpl-data\n",
      "C:\\Users\\pansu\\anaconda3\\lib\\site-packages\\matplotlib\\mpl-data\n",
      "C:\\Users\\pansu\\anaconda3\\lib\\site-packages\\matplotlib\\mpl-data\n",
      "C:\\Users\\pansu\\anaconda3\\lib\\site-packages\\matplotlib\\mpl-data\n",
      "C:\\Users\\pansu\\anaconda3\\lib\\site-packages\\matplotlib\\mpl-data\n",
      "C:\\Users\\pansu\\anaconda3\\lib\\site-packages\\matplotlib\\mpl-data\n",
      "C:\\Users\\pansu\\anaconda3\\lib\\site-packages\\matplotlib\\mpl-data\n",
      "C:\\Users\\pansu\\anaconda3\\lib\\site-packages\\matplotlib\\mpl-data\n",
      "C:\\Users\\pansu\\anaconda3\\lib\\site-packages\\matplotlib\\mpl-data\n",
      "C:\\Users\\pansu\\anaconda3\\lib\\site-packages\\matplotlib\\mpl-data\n",
      "C:\\Users\\pansu\\anaconda3\\lib\\site-packages\\matplotlib\\mpl-data\n",
      "C:\\Users\\pansu\\anaconda3\\lib\\site-packages\\matplotlib\\mpl-data\n",
      "C:\\Users\\pansu\\anaconda3\\lib\\site-packages\\matplotlib\\mpl-data\n",
      "C:\\Users\\pansu\\anaconda3\\lib\\site-packages\\matplotlib\\mpl-data\n",
      "C:\\Users\\pansu\\anaconda3\\lib\\site-packages\\matplotlib\\mpl-data\n",
      "C:\\Users\\pansu\\anaconda3\\lib\\site-packages\\matplotlib\\mpl-data\n",
      "C:\\Users\\pansu\\anaconda3\\lib\\site-packages\\matplotlib\\mpl-data\n",
      "C:\\Users\\pansu\\anaconda3\\lib\\site-packages\\matplotlib\\mpl-data\n",
      "C:\\Users\\pansu\\anaconda3\\lib\\site-packages\\matplotlib\\mpl-data\n",
      "C:\\Users\\pansu\\anaconda3\\lib\\site-packages\\matplotlib\\mpl-data\n",
      "C:\\Users\\pansu\\anaconda3\\lib\\site-packages\\matplotlib\\mpl-data\n",
      "C:\\Users\\pansu\\anaconda3\\lib\\site-packages\\matplotlib\\mpl-data\n",
      "C:\\Users\\pansu\\anaconda3\\lib\\site-packages\\matplotlib\\mpl-data\n",
      "C:\\Users\\pansu\\anaconda3\\lib\\site-packages\\matplotlib\\mpl-data\n",
      "C:\\Users\\pansu\\anaconda3\\lib\\site-packages\\matplotlib\\mpl-data\n",
      "C:\\Users\\pansu\\anaconda3\\lib\\site-packages\\matplotlib\\mpl-data\n",
      "C:\\Users\\pansu\\anaconda3\\lib\\site-packages\\matplotlib\\mpl-data\n",
      "C:\\Users\\pansu\\anaconda3\\lib\\site-packages\\matplotlib\\mpl-data\n",
      "C:\\Users\\pansu\\anaconda3\\lib\\site-packages\\matplotlib\\mpl-data\n",
      "C:\\Users\\pansu\\anaconda3\\lib\\site-packages\\matplotlib\\mpl-data\n",
      "C:\\Users\\pansu\\anaconda3\\lib\\site-packages\\matplotlib\\mpl-data\n",
      "C:\\Users\\pansu\\anaconda3\\lib\\site-packages\\matplotlib\\mpl-data\n",
      "C:\\Users\\pansu\\anaconda3\\lib\\site-packages\\matplotlib\\mpl-data\n",
      "C:\\Users\\pansu\\anaconda3\\lib\\site-packages\\matplotlib\\mpl-data\n",
      "C:\\Users\\pansu\\anaconda3\\lib\\site-packages\\matplotlib\\mpl-data\n",
      "C:\\Users\\pansu\\anaconda3\\lib\\site-packages\\matplotlib\\mpl-data\n",
      "C:\\Users\\pansu\\anaconda3\\lib\\site-packages\\matplotlib\\mpl-data\n",
      "C:\\Users\\pansu\\anaconda3\\lib\\site-packages\\matplotlib\\mpl-data\n",
      "C:\\Users\\pansu\\anaconda3\\lib\\site-packages\\matplotlib\\mpl-data\n",
      "C:\\Users\\pansu\\anaconda3\\lib\\site-packages\\matplotlib\\mpl-data\n",
      "C:\\Users\\pansu\\anaconda3\\lib\\site-packages\\matplotlib\\mpl-data\n",
      "C:\\Users\\pansu\\anaconda3\\lib\\site-packages\\matplotlib\\mpl-data\n",
      "C:\\Users\\pansu\\anaconda3\\lib\\site-packages\\matplotlib\\mpl-data\n",
      "C:\\Users\\pansu\\anaconda3\\lib\\site-packages\\matplotlib\\mpl-data\n",
      "C:\\Users\\pansu\\anaconda3\\lib\\site-packages\\matplotlib\\mpl-data\n",
      "C:\\Users\\pansu\\anaconda3\\lib\\site-packages\\matplotlib\\mpl-data\n",
      "C:\\Users\\pansu\\anaconda3\\lib\\site-packages\\matplotlib\\mpl-data\n",
      "C:\\Users\\pansu\\anaconda3\\lib\\site-packages\\matplotlib\\mpl-data\n",
      "C:\\Users\\pansu\\anaconda3\\lib\\site-packages\\matplotlib\\mpl-data\n",
      "C:\\Users\\pansu\\anaconda3\\lib\\site-packages\\matplotlib\\mpl-data\n",
      "C:\\Users\\pansu\\anaconda3\\lib\\site-packages\\matplotlib\\mpl-data\n",
      "C:\\Users\\pansu\\anaconda3\\lib\\site-packages\\matplotlib\\mpl-data\n",
      "C:\\Users\\pansu\\.matplotlib\n",
      "C:\\Users\\pansu\\anaconda3\\lib\\site-packages\\matplotlib\\mpl-data\n",
      "C:\\Users\\pansu\\.matplotlib\n"
     ]
    }
   ],
   "source": [
    "from PIL import Image, ImageDraw\n",
    "import numpy as np\n",
    "from scipy.ndimage import map_coordinates\n",
    "from numpy import linalg as LA\n",
    "from math import ceil\n",
    "from utils import line_draw, plot_img \n",
    "import matplotlib.pyplot as plt"
   ]
  },
  {
   "cell_type": "markdown",
   "metadata": {
    "id": "mQTJxj6hZ3x9"
   },
   "source": [
    "## **1. Applying image transformations**\n",
    "\n",
    "### **1.1 Applying a homography to an image**\n",
    "\n",
    "Below we provide the function `apply_H` which takes as input an image and a\n",
    "transformation (specified in a $3\\times 3$ matrix `H`) and applies the\n",
    "desired transformation to the input image. \n",
    "\n",
    "**Q1.** Examine and understand the code. Complete the code following \n",
    "the directions in the function."
   ]
  },
  {
   "cell_type": "code",
   "execution_count": 2,
   "metadata": {
    "id": "Pg7wAX_lZ3x-"
   },
   "outputs": [],
   "source": [
    "def get_transformed_pixels_coords(I, H, shift=None):\n",
    "    ys, xs = np.indices(I.shape[:2]).astype(\"float64\")\n",
    "    if shift is not None:\n",
    "        ys += shift[1]\n",
    "        xs += shift[0]\n",
    "    ones = np.ones(I.shape[:2]) # (400, 337)\n",
    "    coords = np.stack((xs, ys, ones), axis=2)\n",
    "    coords_H = (H @ coords.reshape(-1, 3).T).T #? AFTER\n",
    "    coords_H /= coords_H[:, 2, np.newaxis]\n",
    "    cart_H = coords_H[:, :2]\n",
    "    \n",
    "    return cart_H.reshape((*I.shape[:2], 2))\n",
    "\n",
    "def apply_H(I, H):\n",
    "    h, w = I.shape[:2] \n",
    "    \n",
    "    # 1. Homogenize corners\n",
    "    c1 = np.array([1, 1, 1])\n",
    "    c2 = np.array([w, 1, 1])\n",
    "    c3 = np.array([1, h, 1])\n",
    "    c4 = np.array([w, h, 1])\n",
    "    \n",
    "    #transform corners according to H\n",
    "    # *** TO COMPLETE ***\n",
    "    #     Compute the transformed homogeneous image corners according to H.\n",
    "    #     Normalize the homogeneous coordinates so as the third\n",
    "    #     coordinate is always 1.\n",
    "    #     Call the transformed corners: Hc1, Hc2, Hc3, Hc4\n",
    "    \n",
    "    # 2. Apply H\n",
    "    Hc1= H.dot(c1) #% transformed corner c1\n",
    "    Hc2= H.dot(c2) #% transformed corner c2\n",
    "    Hc3= H.dot(c3) #% transformed corner c3\n",
    "    Hc4= H.dot(c4) #% transformed corner c4\n",
    "    \n",
    "    # 3. Dehomogenize\n",
    "    Hc1 /= Hc1[2];\n",
    "    Hc2 /= Hc2[2];\n",
    "    Hc3 /= Hc3[2];\n",
    "    Hc4 /= Hc4[2];\n",
    "    \n",
    "    # compute extremal transformed corner coordinates\n",
    "    xmin = np.around(np.amin([Hc1[0], Hc2[0], Hc3[0], Hc4[0]]))\n",
    "    xmax = np.around(np.amax([Hc1[0], Hc2[0], Hc3[0], Hc4[0]]))\n",
    "    ymin = np.around(np.amin([Hc1[1], Hc2[1], Hc3[1], Hc4[1]]))\n",
    "    ymax = np.around(np.amax([Hc1[1], Hc2[1], Hc3[1], Hc4[1]]))\n",
    "    \n",
    "    size_x = ceil(xmax - xmin + 1)\n",
    "    size_y = ceil(ymax - ymin + 1)\n",
    "    \n",
    "    # transform image ->using backward\n",
    "    H_inv = np.linalg.inv(H)\n",
    "\n",
    "    out = np.zeros((size_y, size_x, 3))\n",
    "    shift = (xmin, ymin)\n",
    "    \n",
    "    interpolation_coords = get_transformed_pixels_coords(out, H_inv, shift=shift)\n",
    "    interpolation_coords[:, :, [0, 1]] = interpolation_coords[:, :, [1, 0]] \n",
    "    interpolation_coords = np.swapaxes(np.swapaxes(interpolation_coords, 0, 2), 1, 2) #Interchange two axes of an array.\n",
    "    \n",
    "    # use map_coordinates: Map the input array to new coordinates by interpolation.\n",
    "    out[:, :, 0] = map_coordinates(I[:, :, 0], interpolation_coords)\n",
    "    out[:, :, 1] = map_coordinates(I[:, :, 1], interpolation_coords)\n",
    "    out[:, :, 2] = map_coordinates(I[:, :, 2], interpolation_coords)\n",
    "  \n",
    "    return out.astype(\"uint8\")"
   ]
  },
  {
   "cell_type": "code",
   "execution_count": 3,
   "metadata": {},
   "outputs": [],
   "source": [
    "def get_R_mat(ang=0,t=[1,1]):\n",
    "    theta = ang*np.pi/180\n",
    "    R = np.array( [[np.cos(theta),-np.sin(theta),t[0]],\n",
    "                   [np.sin(theta),np.cos(theta),t[1]],\n",
    "                   [0 ,0 ,1]])\n",
    "    return R"
   ]
  },
  {
   "cell_type": "markdown",
   "metadata": {
    "id": "EHLZw05DZ3x_"
   },
   "source": [
    "Now we are going to test the completed function `apply_H.m`\n",
    "with a hierarchy of 2D transformations. \n",
    "\n",
    "**Q2.** We want to apply a rotation of $30^o$ to the image. Which is the appropriate\n",
    "expression of matrix `H` below? Which kind of transformation is it?\n",
    "\n",
    "\n",
    "\n",
    "*   The general expression is ..., and in this case we have the isometry transformation.\n",
    "\n"
   ]
  },
  {
   "cell_type": "code",
   "execution_count": 4,
   "metadata": {},
   "outputs": [],
   "source": [
    "# arrays = [np.random.randn(2, 3) for _ in range(1)]\n",
    "# a = np.stack(arrays, axis=0)\n",
    "# print(\"shape\",a.shape) #(1, 2, 3)\n",
    "# print(a)\n",
    "# a = np.stack(arrays, axis=1) #(2,1,3)\n",
    "# print(\"shape\",a.shape)\n",
    "# print(a)\n",
    "# a = np.stack(arrays, axis=2) #same with -1, (2,3,1)\n",
    "# print(\"shape\",a.shape)\n",
    "# print(a)"
   ]
  },
  {
   "cell_type": "code",
   "execution_count": 5,
   "metadata": {},
   "outputs": [
    {
     "data": {
      "text/plain": [
       "1"
      ]
     },
     "execution_count": 5,
     "metadata": {},
     "output_type": "execute_result"
    }
   ],
   "source": [
    "len([0])\n"
   ]
  },
  {
   "cell_type": "code",
   "execution_count": 20,
   "metadata": {
    "colab": {
     "base_uri": "https://localhost:8080/",
     "height": 625
    },
    "id": "vOI5hOgeZ3yA",
    "outputId": "9a5c5c8f-de54-4e47-d89b-aa895beefbdd"
   },
   "outputs": [
    {
     "data": {
      "text/plain": [
       "<Figure size 432x288 with 0 Axes>"
      ]
     },
     "metadata": {},
     "output_type": "display_data"
    },
    {
     "data": {
      "image/png": "[encoded data removed]",
      "text/plain": [
       "<Figure size 432x288 with 2 Axes>"
      ]
     },
     "metadata": {
      "needs_background": "light"
     },
     "output_type": "display_data"
    }
   ],
   "source": [
    "img_path = \"./Data/mondrian.jpg\"\n",
    "\n",
    "I = Image.open(img_path)\n",
    "H = get_R_mat(30)\n",
    "It = apply_H(np.array(I), H)\n",
    "\n",
    "I = plot_img(I,[1],False)\n",
    "It = plot_img(It,[1],False)\n",
    "fig, (ax1, ax2) = plt.subplots(1, 2)\n",
    "fig.suptitle('Isometry')\n",
    "ax1.imshow(I); ax2.imshow(It)\n",
    "plt.show()"
   ]
  },
  {
   "cell_type": "markdown",
   "metadata": {
    "id": "FPCM-vGpZ3yB"
   },
   "source": [
    "**Q3.**\n",
    "We want to apply a rotation of $-70^o$ and a translation of 10 pixels in the\n",
    "horizontal direction and 350 pixels in the vertical direction.  Which is the\n",
    "appropriate input `H`? Which kind of transformation is it?  What are the\n",
    "invariants of this type of transformation?\n",
    "\n",
    "**Q4.**\n",
    "We want to apply a rotation of $10^o$ to the image and a scaling of 1.5 in both\n",
    "coordinates. Which is the appropriate input `H`? Which kind of\n",
    "transformation is it?  What are the invariants of this type of transformation?\n",
    "\n",
    "Add a code cell below that transforms the previous image with the transformations required in Q3 and Q4."
   ]
  },
  {
   "cell_type": "code",
   "execution_count": null,
   "metadata": {
    "colab": {
     "base_uri": "https://localhost:8080/",
     "height": 695
    },
    "id": "T1vU28bDo7fB",
    "outputId": "1b8c9c60-76b3-4325-9b27-3e2529804cc9"
   },
   "outputs": [],
   "source": [
    "ang = -70\n",
    "theta = ang*np.pi/180\n",
    "t = [10,350];\n",
    "H = np.array( [[np.cos(theta),-np.sin(theta),t[0]],[np.sin(theta),np.cos(theta),t[1]],[0 ,0 ,1]])\n",
    "It = apply_H(np.array(I), H)\n",
    "plot_img(I)\n",
    "plot_img(It)\n",
    "# luego pensar como poner bien el resultado"
   ]
  },
  {
   "cell_type": "code",
   "execution_count": null,
   "metadata": {},
   "outputs": [],
   "source": [
    "S_matx = np.zeros([3,3])\n",
    "s = [1.5,1.5, 1]\n",
    "np.fill_diagonal(S_matx, s)\n",
    "S_matx"
   ]
  },
  {
   "cell_type": "code",
   "execution_count": null,
   "metadata": {
    "id": "0IgzfJlSreW3"
   },
   "outputs": [],
   "source": [
    "ang = 10\n",
    "theta = ang*np.pi/180\n",
    "t = [10,350];\n",
    "S = np.zeros([3,3]); s = [1.5,1.5, 1]; np.fill_diagonal( S, s)\n",
    "R = np.array( [[np.cos(theta),-np.sin(theta),t[0]],[np.sin(theta),np.cos(theta),t[1]],[0 ,0 ,1]]);\n",
    "H = np.dot(R,S)\n",
    "\n",
    "It = apply_H(np.array(I), H)\n",
    "plot_img(I)\n",
    "plot_img(It)"
   ]
  },
  {
   "cell_type": "markdown",
   "metadata": {
    "id": "IuJZ_1IqZ3yC"
   },
   "source": [
    "Now apply the following transformation to the Mondrian image (complete the cell code below):\n",
    "$$ H = \\left(\\begin{array}{ccc}\n",
    "    2 & -1 & 1 \\\\\n",
    "    1 & 1 & 3 \\\\\n",
    "    0 & 0 & 1 \\\\\n",
    "   \\end{array} \\right)\n",
    "$$\n",
    "\n",
    "**Q5.**\n",
    "Which kind of transformation is it?  What are the invariants of this type of\n",
    "transformation?\n",
    "\n",
    "\n",
    "**Q6.**\n",
    "Use the SVD decomposition (function `np.linalg.svd`) to express the\n",
    "transformation $H$ as a composition of two rotations, a pure anisotropic\n",
    "scaling and a pure translation (the rotations may also include a reflection).\n",
    "Which are the matrices corresponding to each one of the transformations?  Which\n",
    "is the appropriate order of composition? Apply these matrices to the image in the proper\n",
    "order, one by one,  with the function `apply_H` and verify that you get the same result than applying all the transformations at the same time using a single matrix.  Provide in the cell code below all\n",
    "the commands used for this verification."
   ]
  },
  {
   "cell_type": "code",
   "execution_count": null,
   "metadata": {
    "id": "4QNKEU-ZZ3yE"
   },
   "outputs": [],
   "source": [
    "H = [[2,-1,1],[1,1,3],[0,0,1]] # complete\n",
    "\n",
    "It = apply_H(np.array(I), np.array(H)) # es un affine translation ¡, bc the lines are parallels\n",
    "\n",
    "plot_img(I)\n",
    "plot_img(It)\n",
    "\n",
    "# descomponet como 2 R(may also add reflection), S, T ?? -> \n",
    "u, s, vh = np.linalg.svd(H, full_matrices=True)\n",
    "S = np.zeros([3,3]); np.fill_diagonal( S, s)\n",
    "H_p = np.dot(u,np.dot(S,vh))\n",
    "print(\"Are they element wise equal ?\",np.allclose(H,H_p))\n",
    "It = apply_H(np.array(I), H_p)\n",
    "plot_img(I)\n",
    "plot_img(It)"
   ]
  },
  {
   "cell_type": "markdown",
   "metadata": {
    "id": "JYWYQalJZ3yE"
   },
   "source": [
    "### **1.2 Projective transformations (Homographies)**\n",
    "\n",
    "Apply a projective transformation to the Mondrian image.  Play with matrices similar to \n",
    "$$ H = \\left(\\begin{array}{ccc}\n",
    "    1 & 0 & 0 \\\\\n",
    "    0 & 1 & 0 \\\\\n",
    "    0.001 & 0.001 & 1 \\\\\n",
    "   \\end{array} \\right)\n",
    "$$\n",
    "to get the feel of what an homography looks like.\n",
    "\n",
    "**Q7.**\n",
    "Specify the matrix $H$ used. What are the invariants of this type of\n",
    "transformation?\n",
    "\n",
    "\n",
    "**Q8.**\n",
    "Show that an affinity maps points at infinity to points at infinity.\n",
    "\n",
    "\n",
    "**Q9.**\n",
    "Show that a projectivity maps points at infinity to finite points."
   ]
  },
  {
   "cell_type": "code",
   "execution_count": null,
   "metadata": {
    "id": "7bPy4DTUZ3yF"
   },
   "outputs": [],
   "source": [
    "H = np.identity(3) # complete\n",
    "H[2,:]=[0.001,0.001,1]\n",
    "\n",
    "It = apply_H(np.array(I), H) #Projective Preguntar Q8, y Q9 with eq or =??\n",
    "\n",
    "plot_img(I)\n",
    "plot_img(It)"
   ]
  },
  {
   "cell_type": "markdown",
   "metadata": {
    "id": "2dgY52dyZ3yF"
   },
   "source": [
    "## **2. Image Rectification**\n",
    "\n",
    "We are going to test two image rectification methods.  \n",
    "\n",
    "### **2.1 Interactive method**\n",
    "In\n",
    "the first approach we are going to remove the projective distortion from a\n",
    "perspective image of a plane (flat surface in the 3D world). The key idea is to select four coplanar points\n",
    "that should be mapped to a rectangle.\n",
    "\n",
    "**Q10.** Use the code below to choose the four points marked in the image below \n",
    "and obtain their coordinates in pixels. (You will have to install the opencv library: `pip install opencv-python`)\n",
    "\n",
    "![4points](Data/marked_points.jpg)"
   ]
  },
  {
   "cell_type": "code",
   "execution_count": null,
   "metadata": {},
   "outputs": [],
   "source": [
    "!pip install opencv-python"
   ]
  },
  {
   "cell_type": "code",
   "execution_count": null,
   "metadata": {
    "id": "EkP0vn1WZ3yF"
   },
   "outputs": [],
   "source": [
    "import cv2\n",
    "import os\n",
    "def show_cords(event, x, y, flags, param):\n",
    "    if event == cv2.EVENT_LBUTTONDOWN:\n",
    "        print(f'{x},{y}'             )\n",
    "        imgCopy = image.copy()\n",
    "        cv2.putText(imgCopy, f'{x},{y}', (20, 20), fontFace=cv2.FONT_HERSHEY_SIMPLEX, fontScale=0.6, color=(0, 255, 0))\n",
    "        cv2.imshow(window_name, imgCopy)\n",
    "path = \"./Data/metro2.png\"\n",
    "assert os.path.exists(path), f'File doesnt exist'\n",
    "# Reading an image in default mode\n",
    "image = cv2.imread(path)\n",
    "# Window name in which image is displayed\n",
    "window_name = 'image'\n",
    "cv2.namedWindow(window_name, cv2.WINDOW_GUI_NORMAL )\n",
    "cv2.setMouseCallback(window_name, show_cords)\n",
    "# Using cv2.imshow() method\n",
    "# Displaying the image\n",
    "cv2.imshow(window_name, image)\n",
    "while True:\n",
    "    cv2.imshow(window_name, image)\n",
    "    key=cv2.waitKey(0)\n",
    "    if key == ord('q'):\n",
    "        break\n",
    "    # closing all open windows\n",
    "\n",
    "cv2.destroyAllWindows()\n",
    "cv2.destroyWindow(window_name)"
   ]
  },
  {
   "cell_type": "markdown",
   "metadata": {
    "id": "-agZsM0IZ3yG"
   },
   "source": [
    "**Q11.** Choose the coordinates of the four points where the original points should be\n",
    "mapped to in order to form a rectangle, i.e. the lines joining these four\n",
    "points should form right angles. Create two $3\\times 4$ matrices, `X` and `Y`, with the homogeneous\n",
    "coordinates of the four selected points and the four transformed points,\n",
    "respectively. Complete the code below accordingly."
   ]
  },
  {
   "cell_type": "code",
   "execution_count": null,
   "metadata": {
    "id": "cbC3fqtLZ3yG"
   },
   "outputs": [],
   "source": [
    "# Question 10: p1, p2, p3, and p4 are the coordinates you chose in Q10\n",
    "\n",
    "p1= [72,264,1]\n",
    "p2 = [341,330,1]\n",
    "p3=[341,476,1]\n",
    "p4 = [49,533,1]\n",
    "\n",
    "# Question 11\n",
    "q1 = np.cross(p1, p2)\n",
    "q2 = np.cross(p1, p3)\n",
    "q3 = np.cross(p2, p4)\n",
    "q4 = np.cross(p3, p4)\n",
    "\n",
    "X = [p1, p2, p3, p4]\n",
    "X = np.array(X).T\n",
    "np.shape(X)\n",
    "\n",
    "Y = X # !!!!!!!!!!!!!!!!!!!!!!!!!!!!!!NOT SURE!<-------------AQUI!!!!!!!!!\n",
    "\n",
    "# Draw selected points\n",
    "import matplotlib\n",
    "img_path = \"./Data/metro2.png\"\n",
    "I = Image.open(img_path)\n",
    "\n",
    "canv2 = ImageDraw.Draw(I)\n",
    "for i in range(4):\n",
    "    canv2.ellipse((X[0,i], X[1,i], X[0,i]+7, X[1,i]+7), fill = 'cyan', outline ='cyan')\n",
    "\n",
    "from matplotlib import pyplot as plt\n",
    "plt.imshow(I)\n",
    "fig = matplotlib.pyplot.gcf()\n",
    "fig.set_size_inches(18.5, 10.5)\n",
    "plt.show()"
   ]
  },
  {
   "cell_type": "markdown",
   "metadata": {
    "id": "2MPlZE_iZ3yH"
   },
   "source": [
    "The purpose now is to find the homography `H` that relates the two sets of\n",
    "points, encoded in the matrices `X` and `Y`, by using the normalised Direct Linear Transformation (DLT) algorithm.\n",
    "This algorithm is implemented in the provided function `DLT_homography` below, there are two missing parts that you have to complete. The\n",
    "matrix `H` is obtained by calling this function with the two matrices `X` and `Y` of\n",
    "homogeneous coordinates as inputs.\n",
    "\n",
    "**Q12.** Provide the completed code (also in the pdf document). \n",
    "Which is the matrix `H` obtained?"
   ]
  },
  {
   "cell_type": "code",
   "execution_count": null,
   "metadata": {
    "id": "BAfvNmZAZ3yH"
   },
   "outputs": [],
   "source": [
    "# code homography ----- solution\n",
    "def Normalization(x):\n",
    "    '''\n",
    "    Normalization of coordinates (centroid to the origin and mean distance of sqrt(2).\n",
    "    Input\n",
    "    -----\n",
    "    x: the data to be normalized (3 x N array)\n",
    "    Output\n",
    "    ------\n",
    "    Tr: the transformation matrix (translation plus scaling)\n",
    "    x: the transformed data\n",
    "    '''\n",
    "\n",
    "    x = np.asarray(x)\n",
    "    x = x  / x[2,:]\n",
    "    \n",
    "    m, s = np.mean(x, 1), np.std(x)\n",
    "    s = np.sqrt(2)/s;\n",
    " \n",
    "    Tr = np.array([[s, 0, -s*m[0]], [0, s, -s*m[1]], [0, 0, 1]])\n",
    "\n",
    "\n",
    "    xt = Tr @ x\n",
    "        \n",
    "    return Tr, xt\n",
    "\n",
    "def DLT_homography(points1, points2):\n",
    "    \n",
    "    # Normalize points in both images\n",
    "    T1, points1n = Normalization(points1)\n",
    "    T2, points2n = Normalization(points2)\n",
    "\n",
    "    A = # ... complete ...\n",
    "\n",
    "    # Convert A to array\n",
    "    A = np.asarray(A) \n",
    "\n",
    "    U, d, Vt = np.linalg.svd(A)\n",
    "    \n",
    "    # Extract homography (last line of Vt)\n",
    "    L = Vt[-1, :] / Vt[-1, -1]\n",
    "    H = L.reshape(3, 3)\n",
    "    \n",
    "    # Denormalise\n",
    "    H = # ... complete ...\n",
    "    \n",
    "    return H"
   ]
  },
  {
   "cell_type": "code",
   "execution_count": null,
   "metadata": {
    "id": "YKDz5HEnZ3yH"
   },
   "outputs": [],
   "source": [
    "img_path = \"./Data/metro2.png\"\n",
    "I = Image.open(img_path)\n",
    "H = DLT_homography(X,Y)\n",
    "print(H)\n",
    "It = apply_H(np.array(I), H)\n",
    "\n",
    "plt.imshow(It)\n",
    "fig = matplotlib.pyplot.gcf()\n",
    "fig.set_size_inches(18.5, 10.5)\n",
    "plt.show()"
   ]
  },
  {
   "cell_type": "markdown",
   "metadata": {
    "id": "XXtqel2CZ3yH"
   },
   "source": [
    "### **2.2 Stratified method**\n",
    "\n",
    "In this part we will test a method for image rectification which works in two steps: affine and metric rectification. We will work with the same image as before.\n",
    "\n",
    "#### **2.2.1 Affine rectification**\n",
    "\n",
    "This first step uses the line at infinity. The rectification is based on transforming the identified \n",
    "image of the line at infinity to its canonical position of $\\ell_{\\infty} = (0, 0, 1)^T$. \n",
    "This is done by a projective transformation built from the coordinates of the imaged \n",
    "line at infinity, $\\ell = (\\ell_1, \\ell_2, \\ell_3)^T$, provided that $\\ell_3 \\neq 0$. \n",
    "The idea \n",
    "is illustrated in the following figure:\n",
    "\n",
    "![Title](Data/fig1.jpg)\n",
    "\n",
    "We are going to compute $\\ell$, the imaged $\\ell_{\\infty}$, as the intersection \n",
    "of the two pair of lines formed by the four selected points in the previous exercise.\n",
    "For that, we are going to use the dual properties of homogeneous points and lines that define the line joining two points and the intersection of lines.\n",
    "\n",
    "The first approach to compute the line at infinity will be to use the four points manually selected previously. \n",
    "\n",
    "**Q13.**\n",
    "Compute the vector `l1` representing the line that joins the two upper selected points.\n",
    "Compute the vector `l2` representing the line that joins the two lower selected points.\n",
    "Compute the vector `l3` representing the line that joins the two left selected points.\n",
    "Compute the vector `l4` representing the line that joins the two right selected points.\n",
    "\n",
    "SUGGESTION: You may use the numpy function `cross`.\n"
   ]
  },
  {
   "cell_type": "code",
   "execution_count": null,
   "metadata": {
    "id": "f6Dsl89RZ3yI"
   },
   "outputs": [],
   "source": [
    "l1 = ...\n",
    "l2 = ...\n",
    "l3 = ...\n",
    "l4 = ...."
   ]
  },
  {
   "cell_type": "markdown",
   "metadata": {
    "id": "AyCHLyn0Z3yI"
   },
   "source": [
    "You may visualize the computed lines to check that your result is correct. \n",
    "Use the following commands to visualize the lines."
   ]
  },
  {
   "cell_type": "code",
   "execution_count": null,
   "metadata": {
    "id": "BvLSmFi2Z3yJ"
   },
   "outputs": [],
   "source": [
    "# show the chosen lines in the image\n",
    "canv = ImageDraw.Draw(I)\n",
    "\n",
    "line_draw(l1, canv, I.size)\n",
    "line_draw(l2, canv, I.size)\n",
    "line_draw(l3, canv, I.size)\n",
    "line_draw(l4, canv, I.size)\n",
    "\n",
    "plt.imshow(I)\n",
    "fig = matplotlib.pyplot.gcf()\n",
    "fig.set_size_inches(18.5, 10.5)\n",
    "plt.show()"
   ]
  },
  {
   "cell_type": "markdown",
   "metadata": {
    "id": "uAqEVf3-Z3yJ"
   },
   "source": [
    "**Q14.** \n",
    "Compute the point where the lines `l1` and `l2` intersect. \n",
    "Compute the point where the lines `l3` and `l4` intersect. \n",
    "These are the vanishing points.\n",
    "\n",
    "**Q15.** \n",
    "Compute the imaged line at infinity, $\\ell$, from \n",
    "the two vanishing points previously computed.\n",
    "\n",
    "\n",
    "**Q16.** \n",
    "Give the expression of a matrix `H_aff_rect` that maps the line \n",
    "$\\ell$ to the line $\\ell_{\\infty} = (0, 0, 1)^T$.\n",
    "\n",
    "\n",
    "Complete the code below according to the previous answers and rectify the image by applying the computed homography. Compute also the transformed lines in order to visualize them as well."
   ]
  },
  {
   "cell_type": "code",
   "execution_count": null,
   "metadata": {
    "id": "W-7mKVQFZ3yJ"
   },
   "outputs": [],
   "source": [
    "# compute the image of the line at infinity\n",
    "linf = # ... complete\n",
    "\n",
    "# homography that affinely rectifies the image\n",
    "H_aff_rect = # ... complete\n",
    "\n",
    "# compute the transformed image\n",
    "I_aff_rect = # ... complete\n",
    "\n",
    "# compute the transformed lines\n",
    "lr1, lr2, lr3, lr4 = # ... complete\n",
    "\n",
    "\n",
    "# show the transformed lines in the transformed image\n",
    "I_tr = Image.fromarray(I_aff_rect, 'RGB')\n",
    "size = I_tr.size\n",
    "canv = ImageDraw.Draw(I_tr)\n",
    "line_draw(lr1, canv, size)\n",
    "line_draw(lr2, canv, size)\n",
    "line_draw(lr3, canv, size)\n",
    "line_draw(lr4, canv, size)\n",
    "\n",
    "plt.imshow(I_tr)\n",
    "fig = matplotlib.pyplot.gcf()\n",
    "fig.set_size_inches(18.5, 10.5)\n",
    "plt.show()"
   ]
  },
  {
   "cell_type": "markdown",
   "metadata": {
    "id": "8EwCZ9cQZ3yK"
   },
   "source": [
    "**Q17.** Is the resulting image as expected? Why this time the angle between \n",
    "perpendicular lines in the real world is not right?\n",
    "\n",
    "Now, instead of manually selecting the projected parallel lines in the image we will use the vanishing points estimated by an automatic method for detecting vanishing points in urban scenes. It is based on the detection of line segments in the image and then identifying sets of converging segments and their intersection point by finding point alignments in a proper different space (more details, online demo and code available in the webage of the related publication http://www.ipol.im/pub/art/2017/148/).\n",
    "The result of the method applied to our image of interest is provided in the folder called 'vanishing_points'. The algorithm has detected four different vanishing points: their coordinates are given in matrix `vps` read in the code below. The lines corresponding to each of these points are depicted in the provided images in the folder 'vanishing_points'.\n",
    "\n",
    "**Q18.**\n",
    "Identify the proper pair of vanishing points to affinely rectify the image (justify your answer) and provide the code to obtain the rectified image with the new estimated vanishing points."
   ]
  },
  {
   "cell_type": "code",
   "execution_count": null,
   "metadata": {
    "id": "ob6dVduQZ3yK"
   },
   "outputs": [],
   "source": [
    "import scipy.io as sio\n",
    "mat_content = sio.loadmat('./vanishing_points/vps.mat')\n",
    "vps=mat_content['vps']\n",
    "print(vps)\n",
    "\n",
    "# complete the code that affinely rectifies the image and shows the transformed image ..."
   ]
  },
  {
   "cell_type": "markdown",
   "metadata": {
    "id": "9K3lxLFXZ3yK"
   },
   "source": [
    "#### **2.2.2 Metric rectification (optional)**\n",
    "\n",
    "As an optional task you can code the metric rectification step by using the images of two pairs of orthogonal lines. For that, you can assume that the rectangle is actually a square."
   ]
  }
 ],
 "metadata": {
  "colab": {
   "collapsed_sections": [],
   "name": "lab1.ipynb",
   "provenance": []
  },
  "kernelspec": {
   "display_name": "Python 3",
   "language": "python",
   "name": "python3"
  },
  "language_info": {
   "codemirror_mode": {
    "name": "ipython",
    "version": 3
   },
   "file_extension": ".py",
   "mimetype": "text/x-python",
   "name": "python",
   "nbconvert_exporter": "python",
   "pygments_lexer": "ipython3",
   "version": "3.8.3"
  }
 },
 "nbformat": 4,
 "nbformat_minor": 1
}
